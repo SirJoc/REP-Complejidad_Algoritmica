{
  "nbformat": 4,
  "nbformat_minor": 0,
  "metadata": {
    "colab": {
      "name": "U201818668.ipynb",
      "provenance": []
    },
    "kernelspec": {
      "name": "python3",
      "display_name": "Python 3"
    },
    "language_info": {
      "name": "python"
    }
  },
  "cells": [
    {
      "cell_type": "code",
      "metadata": {
        "colab": {
          "base_uri": "https://localhost:8080/"
        },
        "id": "yAU7wwbdJrFN",
        "outputId": "fe2600ac-e62d-46e5-d30e-85999c6ca4a1"
      },
      "source": [
        "import pandas as pd\n",
        "import numpy as np\n",
        "import networkx as nx\n",
        "import matplotlib.pyplot as plt\n",
        "import math\n",
        "import heapq as hq\n",
        "import graphviz as gv\n",
        "!git clone https://github.com/lmcanavals/algorithmic_complexity.git\n",
        "from algorithmic_complexity.aclib import graphstuff as gs\n",
        "\n",
        "base = \"https://raw.githubusercontent.com/lmcanavals/algorithmic_complexity/main/data/\"\n",
        "csv = \"poblaciones.csv\"\n",
        "DATA_SET = pd.read_csv(f\"{base}{csv}\")\n",
        "\n",
        "def calcularDistancia(cp1,cp2):\n",
        "    la1, lo1 = float(cp1['LATITUD']), float(cp1['LONGITUD'])\n",
        "    la2, lo2 = float(cp2['LATITUD']), float(cp2['LONGITUD'])\n",
        "    \n",
        "    lo1, la1, lo2, la2 = map(math.radians, [lo1, la1, lo2, la2])\n",
        "    dlo = lo2 - lo1\n",
        "    dla = la2 - la1\n",
        "    a = math.sin(dla/2)**2 + math.cos(la1) * math.cos(la2) * math.sin(dlo/2)**2\n",
        "    c = 2 * math.asin(math.sqrt(a))\n",
        "    r = 6371\n",
        "\n",
        "    return round(c * r, 2)"
      ],
      "execution_count": null,
      "outputs": [
        {
          "output_type": "stream",
          "text": [
            "Cloning into 'algorithmic_complexity'...\n",
            "remote: Enumerating objects: 268, done.\u001b[K\n",
            "remote: Counting objects: 100% (268/268), done.\u001b[K\n",
            "remote: Compressing objects: 100% (263/263), done.\u001b[K\n",
            "remote: Total 268 (delta 150), reused 0 (delta 0), pack-reused 0\u001b[K\n",
            "Receiving objects: 100% (268/268), 274.11 KiB | 7.83 MiB/s, done.\n",
            "Resolving deltas: 100% (150/150), done.\n"
          ],
          "name": "stdout"
        }
      ]
    },
    {
      "cell_type": "code",
      "metadata": {
        "id": "GUv_Z20Ety29"
      },
      "source": [
        "def nxAgv(G, weighted=False, params={'rankdir': 'LR', 'size': '6'},\n",
        "          path=None, pathparams={'color':'orangered'}, nodeinfo=False):\n",
        "  if G.is_directed():\n",
        "    g = gv.Digraph('G')\n",
        "  else:\n",
        "    g = gv.Graph('G', strict=True)\n",
        "  g.attr(**params)\n",
        "\n",
        "  for u in G.nodes:\n",
        "    if nodeinfo:\n",
        "      g.node(str(u), **dict(G.nodes[u]))\n",
        "    else:\n",
        "      g.node(str(u))\n",
        "\n",
        " \n",
        "    \n",
        "  for u, v in G.edges():\n",
        "    #print(v,path[v], path)\n",
        "    pp = {} if path and path[v] == u else {}\n",
        "\n",
        "    if weighted:\n",
        "      g.edge(str(u), str(v), f\"{G.edges[u, v]['weight']}\", **pp)\n",
        "    else:\n",
        "      g.edge(str(u), str(v), **pp)\n",
        "  for u in range(len(path)-1):\n",
        "    v = u+1\n",
        "    pp = pathparams\n",
        "    g.edge(str(path[u]), str(path[v]), f\"{G.edges[path[u], path[v]]['weight']}\", **pp)       \n",
        "\n",
        "  return g"
      ],
      "execution_count": null,
      "outputs": []
    },
    {
      "cell_type": "code",
      "metadata": {
        "id": "TePkZGTTJ8Xx"
      },
      "source": [
        "def Area_Estudio(DATA_SET, Nom_Provinci, Nom_Distrito):\n",
        "\n",
        "    list_Provincia = DATA_SET['PROVINCIA'].unique() #no repetir\n",
        "\n",
        "    Provincia = dict()\n",
        "\n",
        "    for i, nom1 in enumerate(list_Provincia):\n",
        "        Provincia[nom1] = DATA_SET[DATA_SET['PROVINCIA'] == nom1]\n",
        "\n",
        "    #---#\n",
        "\n",
        "    list_Distrito = Provincia[Nom_Provinci]['DISTRITO'].unique()\n",
        "\n",
        "    Distrito = dict()\n",
        "\n",
        "    for j, nom2 in enumerate(list_Distrito):\n",
        "        Distrito[nom2] = Provincia[Nom_Provinci][Provincia[Nom_Provinci]['DISTRITO'] == nom2]\n",
        "    \n",
        "    CentrosPoblados = Distrito[Nom_Distrito]\n",
        "    #--#\n",
        "    return CentrosPoblados"
      ],
      "execution_count": null,
      "outputs": []
    },
    {
      "cell_type": "code",
      "metadata": {
        "id": "7DGplmuDJ85P"
      },
      "source": [
        "def Area_Estudio_Mayor(DATA_SET, Nom_Provinci):\n",
        "\n",
        "    list_Provincia = DATA_SET['PROVINCIA'].unique() #no repetir\n",
        "\n",
        "    Provincia = dict()\n",
        "\n",
        "    for i, nom1 in enumerate(list_Provincia):\n",
        "        Provincia[nom1] = DATA_SET[DATA_SET['PROVINCIA'] == nom1]\n",
        "\n",
        "    #---#\n",
        " \n",
        "    CentrosPoblados = Provincia[Nom_Provinci]\n",
        "    #--#\n",
        "    return CentrosPoblados"
      ],
      "execution_count": null,
      "outputs": []
    },
    {
      "cell_type": "code",
      "metadata": {
        "id": "p9uMov90KAGx"
      },
      "source": [
        "Zona = Area_Estudio(DATA_SET,'CHICLAYO', 'OYOTUN')\n",
        "Zona2 = Area_Estudio_Mayor(DATA_SET,'UTCUBAMBA')\n",
        "ZonaV3 = Area_Estudio(DATA_SET,'UTCUBAMBA', 'LONYA GRANDE') #CP"
      ],
      "execution_count": null,
      "outputs": []
    },
    {
      "cell_type": "code",
      "metadata": {
        "id": "bm2x6DXJKBVx"
      },
      "source": [
        "def Gra(cp1, cp2, x):\n",
        "  G = nx.Graph()\n",
        "  indice = cp1.index[0] \n",
        "  for i, cp1 in x.iterrows():\n",
        "    G.add_node(i-indice)\n",
        "\n",
        "  for i, cp1 in x.iterrows():\n",
        "    for j, cp2 in x.iterrows():\n",
        "        if cp1['CENTRO POBLADO'] != cp2['CENTRO POBLADO']:     \n",
        "            G.add_edge(i - indice, j - indice, weight =round(calcularDistancia(cp1, cp2), 2))\n",
        "  \n",
        "  return G"
      ],
      "execution_count": null,
      "outputs": []
    },
    {
      "cell_type": "code",
      "metadata": {
        "id": "17mbcqIgKGlE"
      },
      "source": [
        "G = Gra(ZonaV3, ZonaV3, ZonaV3)"
      ],
      "execution_count": null,
      "outputs": []
    },
    {
      "cell_type": "code",
      "metadata": {
        "id": "rTUEjdPhLKvw"
      },
      "source": [
        "def _BFS(G, s, rq):\n",
        "  q = [s]\n",
        "  G.nodes[s]['visited'] = True\n",
        "  rq.append(s)\n",
        "  while q:\n",
        "    minx = (-1,111111)\n",
        "    v = q.pop(0)\n",
        "    for w in G.neighbors(v):\n",
        "      if G.nodes[w]['visited'] is not True:\n",
        "        minx = (w, min(G.edges[v,w]['weight'], minx[1])) if minx[1] > G.edges[v,w]['weight'] else minx\n",
        "    if minx[0] != -1 and G.nodes[minx[0]]['visited'] != True:\n",
        "      q.append(minx[0])\n",
        "      G.nodes[minx[0]]['visited'] = True\n",
        "      rq.append(minx[0])\n",
        "\n",
        "print()\n",
        "def BFS(G, s):\n",
        "  rq = []\n",
        "  for n in G.nodes:\n",
        "    G.nodes[n]['visited'] = False\n",
        "  _BFS(G,s, rq)\n",
        "  return  rq"
      ],
      "execution_count": null,
      "outputs": []
    },
    {
      "cell_type": "code",
      "metadata": {
        "colab": {
          "base_uri": "https://localhost:8080/",
          "height": 561
        },
        "id": "BjDaJZ3vNh9B",
        "outputId": "e10da7aa-39ed-411b-eb11-752e3ee81ab2"
      },
      "source": [
        "print(BFS(G, 0))\n",
        "arr = BFS(G, 0)\n",
        "arr.append(0)\n",
        "nxAgv(G, path=arr, weighted=True, params={'size':'15'})"
      ],
      "execution_count": null,
      "outputs": [
        {
          "output_type": "stream",
          "text": [
            "[0, 4, 2, 3, 1]\n"
          ],
          "name": "stdout"
        },
        {
          "output_type": "execute_result",
          "data": {
            "text/plain": [
              "<graphviz.dot.Graph at 0x7f5551684650>"
            ],
            "image/svg+xml": "<?xml version=\"1.0\" encoding=\"UTF-8\" standalone=\"no\"?>\n<!DOCTYPE svg PUBLIC \"-//W3C//DTD SVG 1.1//EN\"\n \"http://www.w3.org/Graphics/SVG/1.1/DTD/svg11.dtd\">\n<!-- Generated by graphviz version 2.40.1 (20161225.0304)\n -->\n<!-- Title: G Pages: 1 -->\n<svg width=\"230pt\" height=\"392pt\"\n viewBox=\"0.00 0.00 230.00 392.00\" xmlns=\"http://www.w3.org/2000/svg\" xmlns:xlink=\"http://www.w3.org/1999/xlink\">\n<g id=\"graph0\" class=\"graph\" transform=\"scale(1 1) rotate(0) translate(4 388)\">\n<title>G</title>\n<polygon fill=\"#ffffff\" stroke=\"transparent\" points=\"-4,4 -4,-388 226,-388 226,4 -4,4\"/>\n<!-- 0 -->\n<g id=\"node1\" class=\"node\">\n<title>0</title>\n<ellipse fill=\"none\" stroke=\"#000000\" cx=\"82\" cy=\"-366\" rx=\"27\" ry=\"18\"/>\n<text text-anchor=\"middle\" x=\"82\" y=\"-362.3\" font-family=\"Times,serif\" font-size=\"14.00\" fill=\"#000000\">0</text>\n</g>\n<!-- 1 -->\n<g id=\"node2\" class=\"node\">\n<title>1</title>\n<ellipse fill=\"none\" stroke=\"#000000\" cx=\"118\" cy=\"-279\" rx=\"27\" ry=\"18\"/>\n<text text-anchor=\"middle\" x=\"118\" y=\"-275.3\" font-family=\"Times,serif\" font-size=\"14.00\" fill=\"#000000\">1</text>\n</g>\n<!-- 0&#45;&#45;1 -->\n<g id=\"edge1\" class=\"edge\">\n<title>0&#45;&#45;1</title>\n<path fill=\"none\" stroke=\"#ff4500\" d=\"M89.2851,-348.3943C95.531,-333.3001 104.483,-311.6661 110.7257,-296.5796\"/>\n<text text-anchor=\"middle\" x=\"115.5\" y=\"-318.8\" font-family=\"Times,serif\" font-size=\"14.00\" fill=\"#000000\">1.15</text>\n</g>\n<!-- 2 -->\n<g id=\"node3\" class=\"node\">\n<title>2</title>\n<ellipse fill=\"none\" stroke=\"#000000\" cx=\"118\" cy=\"-192\" rx=\"27\" ry=\"18\"/>\n<text text-anchor=\"middle\" x=\"118\" y=\"-188.3\" font-family=\"Times,serif\" font-size=\"14.00\" fill=\"#000000\">2</text>\n</g>\n<!-- 0&#45;&#45;2 -->\n<g id=\"edge2\" class=\"edge\">\n<title>0&#45;&#45;2</title>\n<path fill=\"none\" stroke=\"#000000\" d=\"M71.4055,-349.2533C59.5058,-328.2066 43.2934,-291.1835 55,-261 63.9158,-238.0121 84.4541,-217.9972 99.6699,-205.5289\"/>\n<text text-anchor=\"middle\" x=\"68.5\" y=\"-275.3\" font-family=\"Times,serif\" font-size=\"14.00\" fill=\"#000000\">0.76</text>\n</g>\n<!-- 3 -->\n<g id=\"node4\" class=\"node\">\n<title>3</title>\n<ellipse fill=\"none\" stroke=\"#000000\" cx=\"183\" cy=\"-105\" rx=\"27\" ry=\"18\"/>\n<text text-anchor=\"middle\" x=\"183\" y=\"-101.3\" font-family=\"Times,serif\" font-size=\"14.00\" fill=\"#000000\">3</text>\n</g>\n<!-- 0&#45;&#45;3 -->\n<g id=\"edge3\" class=\"edge\">\n<title>0&#45;&#45;3</title>\n<path fill=\"none\" stroke=\"#000000\" d=\"M102.5397,-354.1255C112.4559,-347.7708 124.1016,-339.3355 133,-330 153.7008,-308.2824 197.4126,-231.3062 203,-210 211.0023,-179.4851 199.557,-143.195 190.964,-122.2563\"/>\n<text text-anchor=\"middle\" x=\"208.5\" y=\"-231.8\" font-family=\"Times,serif\" font-size=\"14.00\" fill=\"#000000\">1.32</text>\n</g>\n<!-- 4 -->\n<g id=\"node5\" class=\"node\">\n<title>4</title>\n<ellipse fill=\"none\" stroke=\"#000000\" cx=\"86\" cy=\"-18\" rx=\"27\" ry=\"18\"/>\n<text text-anchor=\"middle\" x=\"86\" y=\"-14.3\" font-family=\"Times,serif\" font-size=\"14.00\" fill=\"#000000\">4</text>\n</g>\n<!-- 0&#45;&#45;4 -->\n<g id=\"edge4\" class=\"edge\">\n<title>0&#45;&#45;4</title>\n<path fill=\"none\" stroke=\"#ff4500\" d=\"M60.4555,-355.0879C36.1603,-341.0722 0,-314.2848 0,-279 0,-279 0,-279 0,-105 0,-68.6828 38.3717,-42.0653 63.8529,-28.3933\"/>\n<text text-anchor=\"middle\" x=\"9.5\" y=\"-188.3\" font-family=\"Times,serif\" font-size=\"14.00\" fill=\"#000000\">0.6</text>\n</g>\n<!-- 1&#45;&#45;2 -->\n<g id=\"edge5\" class=\"edge\">\n<title>1&#45;&#45;2</title>\n<path fill=\"none\" stroke=\"#000000\" d=\"M118,-260.9735C118,-246.0422 118,-224.9283 118,-210.0034\"/>\n<text text-anchor=\"middle\" x=\"131.5\" y=\"-231.8\" font-family=\"Times,serif\" font-size=\"14.00\" fill=\"#000000\">0.81</text>\n</g>\n<!-- 1&#45;&#45;3 -->\n<g id=\"edge6\" class=\"edge\">\n<title>1&#45;&#45;3</title>\n<path fill=\"none\" stroke=\"#ff4500\" d=\"M133.6493,-264.0594C139.2141,-257.9941 145.0676,-250.6233 149,-243 169.4745,-203.3083 177.9931,-150.7579 181.2272,-123.3734\"/>\n<text text-anchor=\"middle\" x=\"185.5\" y=\"-188.3\" font-family=\"Times,serif\" font-size=\"14.00\" fill=\"#000000\">0.53</text>\n</g>\n<!-- 1&#45;&#45;4 -->\n<g id=\"edge7\" class=\"edge\">\n<title>1&#45;&#45;4</title>\n<path fill=\"none\" stroke=\"#000000\" d=\"M107.0322,-262.4869C98.6517,-248.975 87.615,-229.0518 82,-210 63.809,-148.2775 75.3201,-70.4931 82.0874,-35.9465\"/>\n<text text-anchor=\"middle\" x=\"85.5\" y=\"-144.8\" font-family=\"Times,serif\" font-size=\"14.00\" fill=\"#000000\">1.33</text>\n</g>\n<!-- 2&#45;&#45;3 -->\n<g id=\"edge8\" class=\"edge\">\n<title>2&#45;&#45;3</title>\n<path fill=\"none\" stroke=\"#ff4500\" d=\"M124.5922,-174.5316C128.9479,-164.2209 135.274,-151.2291 143,-141 149.194,-132.7992 157.4502,-124.9992 164.8529,-118.7698\"/>\n<text text-anchor=\"middle\" x=\"156.5\" y=\"-144.8\" font-family=\"Times,serif\" font-size=\"14.00\" fill=\"#000000\">0.67</text>\n</g>\n<!-- 2&#45;&#45;4 -->\n<g id=\"edge9\" class=\"edge\">\n<title>2&#45;&#45;4</title>\n<path fill=\"none\" stroke=\"#ff4500\" d=\"M114.696,-174.0343C108.548,-140.605 95.4204,-69.2232 89.2861,-35.868\"/>\n<text text-anchor=\"middle\" x=\"118.5\" y=\"-101.3\" font-family=\"Times,serif\" font-size=\"14.00\" fill=\"#000000\">1.27</text>\n</g>\n<!-- 3&#45;&#45;4 -->\n<g id=\"edge10\" class=\"edge\">\n<title>3&#45;&#45;4</title>\n<path fill=\"none\" stroke=\"#000000\" d=\"M166.5453,-90.2416C148.6001,-74.1465 120.0606,-48.5492 102.2117,-32.5404\"/>\n<text text-anchor=\"middle\" x=\"153.5\" y=\"-57.8\" font-family=\"Times,serif\" font-size=\"14.00\" fill=\"#000000\">1.68</text>\n</g>\n</g>\n</svg>\n"
          },
          "metadata": {
            "tags": []
          },
          "execution_count": 89
        }
      ]
    }
  ]
}