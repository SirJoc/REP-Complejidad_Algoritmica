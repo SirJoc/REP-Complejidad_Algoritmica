{
  "nbformat": 4,
  "nbformat_minor": 0,
  "metadata": {
    "colab": {
      "name": "Untitled8.ipynb",
      "provenance": [],
      "authorship_tag": "ABX9TyOYfGQxOS6z/cXToONh4Ku7",
      "include_colab_link": true
    },
    "kernelspec": {
      "name": "python3",
      "display_name": "Python 3"
    },
    "language_info": {
      "name": "python"
    }
  },
  "cells": [
    {
      "cell_type": "markdown",
      "metadata": {
        "id": "view-in-github",
        "colab_type": "text"
      },
      "source": [
        "<a href=\"https://colab.research.google.com/github/SirJoc/TP-Complejidad_Algoritmica/blob/develop/BackTracking.ipynb\" target=\"_parent\"><img src=\"https://colab.research.google.com/assets/colab-badge.svg\" alt=\"Open In Colab\"/></a>"
      ]
    },
    {
      "cell_type": "code",
      "metadata": {
        "colab": {
          "base_uri": "https://localhost:8080/"
        },
        "id": "1eeGpQdBBqe6",
        "outputId": "732ff7d1-82f3-48f3-d42f-55a8227b0926"
      },
      "source": [
        "import pandas as pd\n",
        "import numpy as np\n",
        "import networkx as nx\n",
        "import matplotlib.pyplot as plt\n",
        "import math\n",
        "import heapq as hq\n",
        "import graphviz as gv\n",
        "!git clone https://github.com/lmcanavals/algorithmic_complexity.git\n",
        "from algorithmic_complexity.aclib import graphstuff as gs"
      ],
      "execution_count": 36,
      "outputs": [
        {
          "output_type": "stream",
          "text": [
            "fatal: destination path 'algorithmic_complexity' already exists and is not an empty directory.\n"
          ],
          "name": "stdout"
        }
      ]
    },
    {
      "cell_type": "code",
      "metadata": {
        "id": "_feS1BsiF2n0"
      },
      "source": [
        "base = \"https://raw.githubusercontent.com/lmcanavals/algorithmic_complexity/main/data/\"\n",
        "csv = \"poblaciones.csv\"\n",
        "DATA_SET = pd.read_csv(f\"{base}{csv}\")\n",
        "\n",
        "def calcularDistancia(cp1,cp2):\n",
        "    la1, lo1 = float(cp1['LATITUD']), float(cp1['LONGITUD'])\n",
        "    la2, lo2 = float(cp2['LATITUD']), float(cp2['LONGITUD'])\n",
        "    \n",
        "    lo1, la1, lo2, la2 = map(math.radians, [lo1, la1, lo2, la2])\n",
        "    dlo = lo2 - lo1\n",
        "    dla = la2 - la1\n",
        "    a = math.sin(dla/2)**2 + math.cos(la1) * math.cos(la2) * math.sin(dlo/2)**2\n",
        "    c = 2 * math.asin(math.sqrt(a))\n",
        "    r = 6371\n",
        "\n",
        "    return round(c * r, 2)"
      ],
      "execution_count": 20,
      "outputs": []
    },
    {
      "cell_type": "code",
      "metadata": {
        "id": "bWWhOIYuHYdK"
      },
      "source": [
        "def nxAgv(G, weighted=False, params={'rankdir': 'LR', 'size': '6'},\n",
        "          path=None, pathparams={'color':'orangered'}, nodeinfo=False):\n",
        "  if G.is_directed():\n",
        "    g = gv.Digraph('G')\n",
        "  else:\n",
        "    g = gv.Graph('G', strict=True)\n",
        "  g.attr(**params)\n",
        "\n",
        "  for u in G.nodes:\n",
        "    if nodeinfo:\n",
        "      g.node(str(u), **dict(G.nodes[u]))\n",
        "    else:\n",
        "      g.node(str(u))\n",
        "\n",
        " \n",
        "    \n",
        "  for u, v in G.edges():\n",
        "    #print(v,path[v], path)\n",
        "    pp = {} if path and path[v] == u else {}\n",
        "\n",
        "    if weighted:\n",
        "      g.edge(str(u), str(v), f\"{G.edges[u, v]['weight']}\", **pp)\n",
        "    else:\n",
        "      g.edge(str(u), str(v), **pp)\n",
        "  for u in range(len(path)-1):\n",
        "    v = u+1\n",
        "    pp = pathparams\n",
        "    g.edge(str(path[u]), str(path[v]), f\"{G.edges[path[u], path[v]]['weight']}\", **pp)       \n",
        "\n",
        "  return g"
      ],
      "execution_count": 21,
      "outputs": []
    },
    {
      "cell_type": "code",
      "metadata": {
        "id": "qYWtKIAVHeMu"
      },
      "source": [
        "def Area_Estudio(DATA_SET, Nom_Provinci, Nom_Distrito):\n",
        "\n",
        "    list_Provincia = DATA_SET['PROVINCIA'].unique() #no repetir\n",
        "\n",
        "    Provincia = dict()\n",
        "\n",
        "    for i, nom1 in enumerate(list_Provincia):\n",
        "        Provincia[nom1] = DATA_SET[DATA_SET['PROVINCIA'] == nom1]\n",
        "\n",
        "    #---#\n",
        "\n",
        "    list_Distrito = Provincia[Nom_Provinci]['DISTRITO'].unique()\n",
        "\n",
        "    Distrito = dict()\n",
        "\n",
        "    for j, nom2 in enumerate(list_Distrito):\n",
        "        Distrito[nom2] = Provincia[Nom_Provinci][Provincia[Nom_Provinci]['DISTRITO'] == nom2]\n",
        "    \n",
        "    CentrosPoblados = Distrito[Nom_Distrito]\n",
        "    #--#\n",
        "    return CentrosPoblados"
      ],
      "execution_count": 22,
      "outputs": []
    },
    {
      "cell_type": "code",
      "metadata": {
        "id": "xl2spU89Hgag"
      },
      "source": [
        "def Area_Estudio_Mayor(DATA_SET, Nom_Provinci):\n",
        "\n",
        "    list_Provincia = DATA_SET['PROVINCIA'].unique() #no repetir\n",
        "\n",
        "    Provincia = dict()\n",
        "\n",
        "    for i, nom1 in enumerate(list_Provincia):\n",
        "        Provincia[nom1] = DATA_SET[DATA_SET['PROVINCIA'] == nom1]\n",
        "\n",
        "    #---#\n",
        " \n",
        "    CentrosPoblados = Provincia[Nom_Provinci]\n",
        "    #--#\n",
        "    return CentrosPoblados"
      ],
      "execution_count": 24,
      "outputs": []
    },
    {
      "cell_type": "code",
      "metadata": {
        "id": "6zA_DrNWHi1I"
      },
      "source": [
        "Zona = Area_Estudio(DATA_SET,'CHICLAYO', 'OYOTUN')\n",
        "Zona2 = Area_Estudio_Mayor(DATA_SET,'UTCUBAMBA')\n",
        "ZonaV3 = Area_Estudio(DATA_SET,'UTCUBAMBA', 'LONYA GRANDE')"
      ],
      "execution_count": 25,
      "outputs": []
    },
    {
      "cell_type": "code",
      "metadata": {
        "id": "wPmXYrt-HqkQ"
      },
      "source": [
        "def Gra(cp1, cp2, x):\n",
        "  G = nx.Graph()\n",
        "  indice = cp1.index[0] \n",
        "  for i, cp1 in x.iterrows():\n",
        "    G.add_node(i-indice)\n",
        "\n",
        "  for i, cp1 in x.iterrows():\n",
        "    for j, cp2 in x.iterrows():\n",
        "        if cp1['CENTRO POBLADO'] != cp2['CENTRO POBLADO']:     \n",
        "            G.add_edge(i - indice, j - indice, weight =round(calcularDistancia(cp1, cp2), 2))\n",
        "  \n",
        "  return G"
      ],
      "execution_count": 29,
      "outputs": []
    },
    {
      "cell_type": "code",
      "metadata": {
        "id": "ErhGlQTeH1bJ"
      },
      "source": [
        "G = Gra(ZonaV3, ZonaV3, ZonaV3)"
      ],
      "execution_count": 30,
      "outputs": []
    },
    {
      "cell_type": "code",
      "metadata": {
        "colab": {
          "base_uri": "https://localhost:8080/",
          "height": 544
        },
        "id": "gxhQOhXIIO87",
        "outputId": "6d4358da-0051-4066-bd10-035f99c6acef"
      },
      "source": [
        "gs.nx2gv(G, weighted=True, params={'size':'15'}, nodeinfo=True)"
      ],
      "execution_count": 32,
      "outputs": [
        {
          "output_type": "execute_result",
          "data": {
            "text/plain": [
              "<graphviz.dot.Graph at 0x7f0b515b3e10>"
            ],
            "image/svg+xml": "<?xml version=\"1.0\" encoding=\"UTF-8\" standalone=\"no\"?>\n<!DOCTYPE svg PUBLIC \"-//W3C//DTD SVG 1.1//EN\"\n \"http://www.w3.org/Graphics/SVG/1.1/DTD/svg11.dtd\">\n<!-- Generated by graphviz version 2.40.1 (20161225.0304)\n -->\n<!-- Title: G Pages: 1 -->\n<svg width=\"230pt\" height=\"392pt\"\n viewBox=\"0.00 0.00 230.00 392.00\" xmlns=\"http://www.w3.org/2000/svg\" xmlns:xlink=\"http://www.w3.org/1999/xlink\">\n<g id=\"graph0\" class=\"graph\" transform=\"scale(1 1) rotate(0) translate(4 388)\">\n<title>G</title>\n<polygon fill=\"#ffffff\" stroke=\"transparent\" points=\"-4,4 -4,-388 226,-388 226,4 -4,4\"/>\n<!-- 0 -->\n<g id=\"node1\" class=\"node\">\n<title>0</title>\n<ellipse fill=\"none\" stroke=\"#000000\" cx=\"82\" cy=\"-366\" rx=\"27\" ry=\"18\"/>\n<text text-anchor=\"middle\" x=\"82\" y=\"-362.3\" font-family=\"Times,serif\" font-size=\"14.00\" fill=\"#000000\">0</text>\n</g>\n<!-- 1 -->\n<g id=\"node2\" class=\"node\">\n<title>1</title>\n<ellipse fill=\"none\" stroke=\"#000000\" cx=\"118\" cy=\"-279\" rx=\"27\" ry=\"18\"/>\n<text text-anchor=\"middle\" x=\"118\" y=\"-275.3\" font-family=\"Times,serif\" font-size=\"14.00\" fill=\"#000000\">1</text>\n</g>\n<!-- 0&#45;&#45;1 -->\n<g id=\"edge1\" class=\"edge\">\n<title>0&#45;&#45;1</title>\n<path fill=\"none\" stroke=\"#000000\" d=\"M89.2851,-348.3943C95.531,-333.3001 104.483,-311.6661 110.7257,-296.5796\"/>\n<text text-anchor=\"middle\" x=\"115.5\" y=\"-318.8\" font-family=\"Times,serif\" font-size=\"14.00\" fill=\"#000000\">1.15</text>\n</g>\n<!-- 2 -->\n<g id=\"node3\" class=\"node\">\n<title>2</title>\n<ellipse fill=\"none\" stroke=\"#000000\" cx=\"118\" cy=\"-192\" rx=\"27\" ry=\"18\"/>\n<text text-anchor=\"middle\" x=\"118\" y=\"-188.3\" font-family=\"Times,serif\" font-size=\"14.00\" fill=\"#000000\">2</text>\n</g>\n<!-- 0&#45;&#45;2 -->\n<g id=\"edge2\" class=\"edge\">\n<title>0&#45;&#45;2</title>\n<path fill=\"none\" stroke=\"#000000\" d=\"M71.4055,-349.2533C59.5058,-328.2066 43.2934,-291.1835 55,-261 63.9158,-238.0121 84.4541,-217.9972 99.6699,-205.5289\"/>\n<text text-anchor=\"middle\" x=\"68.5\" y=\"-275.3\" font-family=\"Times,serif\" font-size=\"14.00\" fill=\"#000000\">0.76</text>\n</g>\n<!-- 3 -->\n<g id=\"node4\" class=\"node\">\n<title>3</title>\n<ellipse fill=\"none\" stroke=\"#000000\" cx=\"183\" cy=\"-105\" rx=\"27\" ry=\"18\"/>\n<text text-anchor=\"middle\" x=\"183\" y=\"-101.3\" font-family=\"Times,serif\" font-size=\"14.00\" fill=\"#000000\">3</text>\n</g>\n<!-- 0&#45;&#45;3 -->\n<g id=\"edge3\" class=\"edge\">\n<title>0&#45;&#45;3</title>\n<path fill=\"none\" stroke=\"#000000\" d=\"M102.5397,-354.1255C112.4559,-347.7708 124.1016,-339.3355 133,-330 153.7008,-308.2824 197.4126,-231.3062 203,-210 211.0023,-179.4851 199.557,-143.195 190.964,-122.2563\"/>\n<text text-anchor=\"middle\" x=\"208.5\" y=\"-231.8\" font-family=\"Times,serif\" font-size=\"14.00\" fill=\"#000000\">1.32</text>\n</g>\n<!-- 4 -->\n<g id=\"node5\" class=\"node\">\n<title>4</title>\n<ellipse fill=\"none\" stroke=\"#000000\" cx=\"86\" cy=\"-18\" rx=\"27\" ry=\"18\"/>\n<text text-anchor=\"middle\" x=\"86\" y=\"-14.3\" font-family=\"Times,serif\" font-size=\"14.00\" fill=\"#000000\">4</text>\n</g>\n<!-- 0&#45;&#45;4 -->\n<g id=\"edge4\" class=\"edge\">\n<title>0&#45;&#45;4</title>\n<path fill=\"none\" stroke=\"#000000\" d=\"M60.4555,-355.0879C36.1603,-341.0722 0,-314.2848 0,-279 0,-279 0,-279 0,-105 0,-68.6828 38.3717,-42.0653 63.8529,-28.3933\"/>\n<text text-anchor=\"middle\" x=\"9.5\" y=\"-188.3\" font-family=\"Times,serif\" font-size=\"14.00\" fill=\"#000000\">0.6</text>\n</g>\n<!-- 1&#45;&#45;2 -->\n<g id=\"edge5\" class=\"edge\">\n<title>1&#45;&#45;2</title>\n<path fill=\"none\" stroke=\"#000000\" d=\"M118,-260.9735C118,-246.0422 118,-224.9283 118,-210.0034\"/>\n<text text-anchor=\"middle\" x=\"131.5\" y=\"-231.8\" font-family=\"Times,serif\" font-size=\"14.00\" fill=\"#000000\">0.81</text>\n</g>\n<!-- 1&#45;&#45;3 -->\n<g id=\"edge6\" class=\"edge\">\n<title>1&#45;&#45;3</title>\n<path fill=\"none\" stroke=\"#000000\" d=\"M133.6493,-264.0594C139.2141,-257.9941 145.0676,-250.6233 149,-243 169.4745,-203.3083 177.9931,-150.7579 181.2272,-123.3734\"/>\n<text text-anchor=\"middle\" x=\"185.5\" y=\"-188.3\" font-family=\"Times,serif\" font-size=\"14.00\" fill=\"#000000\">0.53</text>\n</g>\n<!-- 1&#45;&#45;4 -->\n<g id=\"edge7\" class=\"edge\">\n<title>1&#45;&#45;4</title>\n<path fill=\"none\" stroke=\"#000000\" d=\"M107.0322,-262.4869C98.6517,-248.975 87.615,-229.0518 82,-210 63.809,-148.2775 75.3201,-70.4931 82.0874,-35.9465\"/>\n<text text-anchor=\"middle\" x=\"85.5\" y=\"-144.8\" font-family=\"Times,serif\" font-size=\"14.00\" fill=\"#000000\">1.33</text>\n</g>\n<!-- 2&#45;&#45;3 -->\n<g id=\"edge8\" class=\"edge\">\n<title>2&#45;&#45;3</title>\n<path fill=\"none\" stroke=\"#000000\" d=\"M124.5922,-174.5316C128.9479,-164.2209 135.274,-151.2291 143,-141 149.194,-132.7992 157.4502,-124.9992 164.8529,-118.7698\"/>\n<text text-anchor=\"middle\" x=\"156.5\" y=\"-144.8\" font-family=\"Times,serif\" font-size=\"14.00\" fill=\"#000000\">0.67</text>\n</g>\n<!-- 2&#45;&#45;4 -->\n<g id=\"edge9\" class=\"edge\">\n<title>2&#45;&#45;4</title>\n<path fill=\"none\" stroke=\"#000000\" d=\"M114.696,-174.0343C108.548,-140.605 95.4204,-69.2232 89.2861,-35.868\"/>\n<text text-anchor=\"middle\" x=\"118.5\" y=\"-101.3\" font-family=\"Times,serif\" font-size=\"14.00\" fill=\"#000000\">1.27</text>\n</g>\n<!-- 3&#45;&#45;4 -->\n<g id=\"edge10\" class=\"edge\">\n<title>3&#45;&#45;4</title>\n<path fill=\"none\" stroke=\"#000000\" d=\"M166.5453,-90.2416C148.6001,-74.1465 120.0606,-48.5492 102.2117,-32.5404\"/>\n<text text-anchor=\"middle\" x=\"153.5\" y=\"-57.8\" font-family=\"Times,serif\" font-size=\"14.00\" fill=\"#000000\">1.68</text>\n</g>\n</g>\n</svg>\n"
          },
          "metadata": {
            "tags": []
          },
          "execution_count": 32
        }
      ]
    },
    {
      "cell_type": "markdown",
      "metadata": {
        "id": "2Ai_JVSRShCz"
      },
      "source": [
        "#BackTracking"
      ]
    },
    {
      "cell_type": "code",
      "metadata": {
        "id": "81CIQ1blByP5"
      },
      "source": [
        "recorrido = []\n",
        "for n in G.nodes:\n",
        "    G.nodes[n]['visited'] = False\n",
        "def algoritmo(G, aux, inicio, cont):    \n",
        "  if(cont == len(G)):\n",
        "    recorrido.append(inicio)\n",
        "    return recorrido\n",
        "  else:\n",
        "    minimo = 99999999999    \n",
        "    G.nodes[aux]['visited'] = True   \n",
        "    recorrido.append(aux)\n",
        "    for i in range(0, len(G)):            \n",
        "      if G.nodes[aux] != G.nodes[i] and G.nodes[i]['visited'] == False:\n",
        "        pdist = G.edges[aux, i]['weight']\n",
        "        if pdist < minimo:\n",
        "          minimo = pdist\n",
        "          aux = i\n",
        "    cont+=1     \n",
        "    algoritmo(G, aux, inicio, cont)"
      ],
      "execution_count": 80,
      "outputs": []
    },
    {
      "cell_type": "code",
      "metadata": {
        "colab": {
          "base_uri": "https://localhost:8080/",
          "height": 561
        },
        "id": "ickcDJixB2uz",
        "outputId": "de1c6273-d65d-4e7a-9ffe-44306a8eef49"
      },
      "source": [
        "numero = random.randrange(0, len(G))\n",
        "algoritmo(G, numero, numero, 0)\n",
        "print(recorrido)\n",
        "arr = recorrido\n",
        "nxAgv(G, path=arr, weighted=True, params={'size':'15'})"
      ],
      "execution_count": 81,
      "outputs": [
        {
          "output_type": "stream",
          "text": [
            "[1, 0, 2, 3, 4, 1]\n"
          ],
          "name": "stdout"
        },
        {
          "output_type": "execute_result",
          "data": {
            "text/plain": [
              "<graphviz.dot.Graph at 0x7f0b5153fed0>"
            ],
            "image/svg+xml": "<?xml version=\"1.0\" encoding=\"UTF-8\" standalone=\"no\"?>\n<!DOCTYPE svg PUBLIC \"-//W3C//DTD SVG 1.1//EN\"\n \"http://www.w3.org/Graphics/SVG/1.1/DTD/svg11.dtd\">\n<!-- Generated by graphviz version 2.40.1 (20161225.0304)\n -->\n<!-- Title: G Pages: 1 -->\n<svg width=\"230pt\" height=\"392pt\"\n viewBox=\"0.00 0.00 230.00 392.00\" xmlns=\"http://www.w3.org/2000/svg\" xmlns:xlink=\"http://www.w3.org/1999/xlink\">\n<g id=\"graph0\" class=\"graph\" transform=\"scale(1 1) rotate(0) translate(4 388)\">\n<title>G</title>\n<polygon fill=\"#ffffff\" stroke=\"transparent\" points=\"-4,4 -4,-388 226,-388 226,4 -4,4\"/>\n<!-- 0 -->\n<g id=\"node1\" class=\"node\">\n<title>0</title>\n<ellipse fill=\"none\" stroke=\"#000000\" cx=\"82\" cy=\"-366\" rx=\"27\" ry=\"18\"/>\n<text text-anchor=\"middle\" x=\"82\" y=\"-362.3\" font-family=\"Times,serif\" font-size=\"14.00\" fill=\"#000000\">0</text>\n</g>\n<!-- 1 -->\n<g id=\"node2\" class=\"node\">\n<title>1</title>\n<ellipse fill=\"none\" stroke=\"#000000\" cx=\"118\" cy=\"-279\" rx=\"27\" ry=\"18\"/>\n<text text-anchor=\"middle\" x=\"118\" y=\"-275.3\" font-family=\"Times,serif\" font-size=\"14.00\" fill=\"#000000\">1</text>\n</g>\n<!-- 0&#45;&#45;1 -->\n<g id=\"edge1\" class=\"edge\">\n<title>0&#45;&#45;1</title>\n<path fill=\"none\" stroke=\"#ff4500\" d=\"M89.2851,-348.3943C95.531,-333.3001 104.483,-311.6661 110.7257,-296.5796\"/>\n<text text-anchor=\"middle\" x=\"115.5\" y=\"-318.8\" font-family=\"Times,serif\" font-size=\"14.00\" fill=\"#000000\">1.15</text>\n</g>\n<!-- 2 -->\n<g id=\"node3\" class=\"node\">\n<title>2</title>\n<ellipse fill=\"none\" stroke=\"#000000\" cx=\"118\" cy=\"-192\" rx=\"27\" ry=\"18\"/>\n<text text-anchor=\"middle\" x=\"118\" y=\"-188.3\" font-family=\"Times,serif\" font-size=\"14.00\" fill=\"#000000\">2</text>\n</g>\n<!-- 0&#45;&#45;2 -->\n<g id=\"edge2\" class=\"edge\">\n<title>0&#45;&#45;2</title>\n<path fill=\"none\" stroke=\"#ff4500\" d=\"M71.4055,-349.2533C59.5058,-328.2066 43.2934,-291.1835 55,-261 63.9158,-238.0121 84.4541,-217.9972 99.6699,-205.5289\"/>\n<text text-anchor=\"middle\" x=\"68.5\" y=\"-275.3\" font-family=\"Times,serif\" font-size=\"14.00\" fill=\"#000000\">0.76</text>\n</g>\n<!-- 3 -->\n<g id=\"node4\" class=\"node\">\n<title>3</title>\n<ellipse fill=\"none\" stroke=\"#000000\" cx=\"183\" cy=\"-105\" rx=\"27\" ry=\"18\"/>\n<text text-anchor=\"middle\" x=\"183\" y=\"-101.3\" font-family=\"Times,serif\" font-size=\"14.00\" fill=\"#000000\">3</text>\n</g>\n<!-- 0&#45;&#45;3 -->\n<g id=\"edge3\" class=\"edge\">\n<title>0&#45;&#45;3</title>\n<path fill=\"none\" stroke=\"#000000\" d=\"M102.5397,-354.1255C112.4559,-347.7708 124.1016,-339.3355 133,-330 153.7008,-308.2824 197.4126,-231.3062 203,-210 211.0023,-179.4851 199.557,-143.195 190.964,-122.2563\"/>\n<text text-anchor=\"middle\" x=\"208.5\" y=\"-231.8\" font-family=\"Times,serif\" font-size=\"14.00\" fill=\"#000000\">1.32</text>\n</g>\n<!-- 4 -->\n<g id=\"node5\" class=\"node\">\n<title>4</title>\n<ellipse fill=\"none\" stroke=\"#000000\" cx=\"86\" cy=\"-18\" rx=\"27\" ry=\"18\"/>\n<text text-anchor=\"middle\" x=\"86\" y=\"-14.3\" font-family=\"Times,serif\" font-size=\"14.00\" fill=\"#000000\">4</text>\n</g>\n<!-- 0&#45;&#45;4 -->\n<g id=\"edge4\" class=\"edge\">\n<title>0&#45;&#45;4</title>\n<path fill=\"none\" stroke=\"#000000\" d=\"M60.4555,-355.0879C36.1603,-341.0722 0,-314.2848 0,-279 0,-279 0,-279 0,-105 0,-68.6828 38.3717,-42.0653 63.8529,-28.3933\"/>\n<text text-anchor=\"middle\" x=\"9.5\" y=\"-188.3\" font-family=\"Times,serif\" font-size=\"14.00\" fill=\"#000000\">0.6</text>\n</g>\n<!-- 1&#45;&#45;2 -->\n<g id=\"edge5\" class=\"edge\">\n<title>1&#45;&#45;2</title>\n<path fill=\"none\" stroke=\"#000000\" d=\"M118,-260.9735C118,-246.0422 118,-224.9283 118,-210.0034\"/>\n<text text-anchor=\"middle\" x=\"131.5\" y=\"-231.8\" font-family=\"Times,serif\" font-size=\"14.00\" fill=\"#000000\">0.81</text>\n</g>\n<!-- 1&#45;&#45;3 -->\n<g id=\"edge6\" class=\"edge\">\n<title>1&#45;&#45;3</title>\n<path fill=\"none\" stroke=\"#000000\" d=\"M133.6493,-264.0594C139.2141,-257.9941 145.0676,-250.6233 149,-243 169.4745,-203.3083 177.9931,-150.7579 181.2272,-123.3734\"/>\n<text text-anchor=\"middle\" x=\"185.5\" y=\"-188.3\" font-family=\"Times,serif\" font-size=\"14.00\" fill=\"#000000\">0.53</text>\n</g>\n<!-- 1&#45;&#45;4 -->\n<g id=\"edge7\" class=\"edge\">\n<title>1&#45;&#45;4</title>\n<path fill=\"none\" stroke=\"#ff4500\" d=\"M107.0322,-262.4869C98.6517,-248.975 87.615,-229.0518 82,-210 63.809,-148.2775 75.3201,-70.4931 82.0874,-35.9465\"/>\n<text text-anchor=\"middle\" x=\"85.5\" y=\"-144.8\" font-family=\"Times,serif\" font-size=\"14.00\" fill=\"#000000\">1.33</text>\n</g>\n<!-- 2&#45;&#45;3 -->\n<g id=\"edge8\" class=\"edge\">\n<title>2&#45;&#45;3</title>\n<path fill=\"none\" stroke=\"#ff4500\" d=\"M124.5922,-174.5316C128.9479,-164.2209 135.274,-151.2291 143,-141 149.194,-132.7992 157.4502,-124.9992 164.8529,-118.7698\"/>\n<text text-anchor=\"middle\" x=\"156.5\" y=\"-144.8\" font-family=\"Times,serif\" font-size=\"14.00\" fill=\"#000000\">0.67</text>\n</g>\n<!-- 2&#45;&#45;4 -->\n<g id=\"edge9\" class=\"edge\">\n<title>2&#45;&#45;4</title>\n<path fill=\"none\" stroke=\"#000000\" d=\"M114.696,-174.0343C108.548,-140.605 95.4204,-69.2232 89.2861,-35.868\"/>\n<text text-anchor=\"middle\" x=\"118.5\" y=\"-101.3\" font-family=\"Times,serif\" font-size=\"14.00\" fill=\"#000000\">1.27</text>\n</g>\n<!-- 3&#45;&#45;4 -->\n<g id=\"edge10\" class=\"edge\">\n<title>3&#45;&#45;4</title>\n<path fill=\"none\" stroke=\"#ff4500\" d=\"M166.5453,-90.2416C148.6001,-74.1465 120.0606,-48.5492 102.2117,-32.5404\"/>\n<text text-anchor=\"middle\" x=\"153.5\" y=\"-57.8\" font-family=\"Times,serif\" font-size=\"14.00\" fill=\"#000000\">1.68</text>\n</g>\n</g>\n</svg>\n"
          },
          "metadata": {
            "tags": []
          },
          "execution_count": 81
        }
      ]
    }
  ]
}