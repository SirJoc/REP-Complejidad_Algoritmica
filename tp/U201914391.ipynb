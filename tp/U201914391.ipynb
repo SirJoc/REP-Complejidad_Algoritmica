{
  "nbformat": 4,
  "nbformat_minor": 0,
  "metadata": {
    "colab": {
      "name": "U201914391.ipynb",
      "provenance": [],
      "collapsed_sections": []
    },
    "kernelspec": {
      "name": "python3",
      "display_name": "Python 3"
    },
    "language_info": {
      "name": "python"
    }
  },
  "cells": [
    {
      "cell_type": "markdown",
      "metadata": {
        "id": "8h0wFxavVC74"
      },
      "source": [
        "Importamos las librerias que necesitamos\n",
        "\n"
      ]
    },
    {
      "cell_type": "code",
      "metadata": {
        "colab": {
          "base_uri": "https://localhost:8080/"
        },
        "id": "hjgJodazVAqA",
        "outputId": "9cbf89cd-49ff-405b-c0e6-869462af0c5e"
      },
      "source": [
        "import pandas as pd\n",
        "import numpy as np\n",
        "import networkx as nx\n",
        "import math\n",
        "\n",
        "!git clone https://github.com/lmcanavals/algorithmic_complexity.git\n",
        "from algorithmic_complexity.aclib import graphstuff as gs"
      ],
      "execution_count": 1,
      "outputs": [
        {
          "output_type": "stream",
          "text": [
            "Cloning into 'algorithmic_complexity'...\n",
            "remote: Enumerating objects: 268, done.\u001b[K\n",
            "remote: Counting objects: 100% (268/268), done.\u001b[K\n",
            "remote: Compressing objects: 100% (263/263), done.\u001b[K\n",
            "remote: Total 268 (delta 150), reused 0 (delta 0), pack-reused 0\u001b[K\n",
            "Receiving objects: 100% (268/268), 274.11 KiB | 5.37 MiB/s, done.\n",
            "Resolving deltas: 100% (150/150), done.\n"
          ],
          "name": "stdout"
        }
      ]
    },
    {
      "cell_type": "markdown",
      "metadata": {
        "id": "paXCpjIIVdMv"
      },
      "source": [
        "Funcion de calcular distancia entre 2 puntos"
      ]
    },
    {
      "cell_type": "code",
      "metadata": {
        "id": "hsfIuPPGViPX"
      },
      "source": [
        "def dist(cp1, cp2):\n",
        "  la1, lo1 = float(cp1['LATITUD']), float(cp1['LONGITUD'])\n",
        "  la2, lo2 = float(cp2['LATITUD']), float(cp2['LONGITUD'])\n",
        "  \n",
        "  lo1, la1, lo2, la2 = map(math.radians, [lo1, la1, lo2, la2])\n",
        "  dlo = lo2 - lo1\n",
        "  dla = la2 - la1\n",
        "  a = math.sin(dla/2)**2 + math.cos(la1) * math.cos(la2) * math.sin(dlo/2)**2\n",
        "  c = 2 * math.asin(math.sqrt(a))\n",
        "  r = 6371\n",
        "\n",
        "  return round(c * r, 2)"
      ],
      "execution_count": 5,
      "outputs": []
    },
    {
      "cell_type": "code",
      "metadata": {
        "id": "2hEJ0rcbVQfT"
      },
      "source": [
        "url=\"https://raw.githubusercontent.com/lmcanavals/algorithmic_complexity/main/data/poblaciones.csv\"\n",
        "poblacionesDF = pd.read_csv(url)"
      ],
      "execution_count": 2,
      "outputs": []
    },
    {
      "cell_type": "code",
      "metadata": {
        "id": "g5I-BxMlVV28"
      },
      "source": [
        "print(len(poblacionesDF))\n",
        "poblacionesDF.head()"
      ],
      "execution_count": null,
      "outputs": []
    },
    {
      "cell_type": "code",
      "metadata": {
        "id": "GaehdA_-VYJ_"
      },
      "source": [
        "nomprovincias = poblacionesDF['PROVINCIA'].unique()\n",
        "print(len(nomprovincias))\n",
        "nomprovincias"
      ],
      "execution_count": null,
      "outputs": []
    },
    {
      "cell_type": "code",
      "metadata": {
        "id": "rgS798xVVZU6"
      },
      "source": [
        "provincias = dict()\n",
        "for nom in nomprovincias:\n",
        "  provincias[nom] = poblacionesDF[poblacionesDF['PROVINCIA'] == nom]\n",
        "  print(nom, len(provincias[nom]))"
      ],
      "execution_count": null,
      "outputs": []
    },
    {
      "cell_type": "code",
      "metadata": {
        "colab": {
          "base_uri": "https://localhost:8080/"
        },
        "id": "VOliYCERVnCo",
        "outputId": "2a3eb94e-c973-4ad5-85fe-eb4d25f52afb"
      },
      "source": [
        "nom_distrito = 'HUANTA'\n",
        "\n",
        "nomdistritos = provincias[nom_distrito]['DISTRITO'].unique()\n",
        "print(len(nomdistritos))\n",
        "nomdistritos"
      ],
      "execution_count": 7,
      "outputs": [
        {
          "output_type": "stream",
          "text": [
            "1\n"
          ],
          "name": "stdout"
        },
        {
          "output_type": "execute_result",
          "data": {
            "text/plain": [
              "array(['HUANTA'], dtype=object)"
            ]
          },
          "metadata": {
            "tags": []
          },
          "execution_count": 7
        }
      ]
    },
    {
      "cell_type": "code",
      "metadata": {
        "colab": {
          "base_uri": "https://localhost:8080/"
        },
        "id": "inAZGVsWVss5",
        "outputId": "3ac8beae-30e7-4fd2-da6d-f4bffdbdb44e"
      },
      "source": [
        "distritos = dict()\n",
        "for nom in nomdistritos:\n",
        "  distritos[nom] = provincias['HUANTA'][provincias['HUANTA']['DISTRITO'] == nom]\n",
        "  print(nom, len(distritos[nom]))"
      ],
      "execution_count": 8,
      "outputs": [
        {
          "output_type": "stream",
          "text": [
            "HUANTA 7\n"
          ],
          "name": "stdout"
        }
      ]
    },
    {
      "cell_type": "code",
      "metadata": {
        "colab": {
          "base_uri": "https://localhost:8080/"
        },
        "id": "X6cUgoO5VuBB",
        "outputId": "a3df624f-4d33-4134-ffc6-81197a5cb97d"
      },
      "source": [
        "distrito = distritos['HUANTA']\n",
        "\n",
        "G = nx.Graph()\n",
        "col = 'CENTRO POBLADO'\n",
        "for i, cp1 in distrito.iterrows():\n",
        "  print(cp1[col])\n",
        "  for j, cp2 in distrito.iterrows():\n",
        "    if cp1[col] != cp2[col]:\n",
        "      G.add_edge(cp1[col], cp2[col], weight=dist(cp1, cp2))"
      ],
      "execution_count": 9,
      "outputs": [
        {
          "output_type": "stream",
          "text": [
            "CALLQUI\n",
            "CCANIS\n",
            "HUANTA\n",
            "PALMAYOCC\n",
            "SOCCOSCCOCHA\n",
            "UCHCUMARCA\n",
            "VISTA ALEGRE\n"
          ],
          "name": "stdout"
        }
      ]
    },
    {
      "cell_type": "markdown",
      "metadata": {
        "id": "kOGmRb1eV3U6"
      },
      "source": [
        "Mostrar el grafo de los centros poblados"
      ]
    },
    {
      "cell_type": "code",
      "metadata": {
        "colab": {
          "base_uri": "https://localhost:8080/",
          "height": 776
        },
        "id": "Aw2vdLVpVxrE",
        "outputId": "a386fc84-ff10-44c9-9ad6-2f8c9eb0f99e"
      },
      "source": [
        "gs.nx2gv(G, weighted=True, params={'size':'15'})"
      ],
      "execution_count": 11,
      "outputs": [
        {
          "output_type": "execute_result",
          "data": {
            "text/plain": [
              "<graphviz.dot.Graph at 0x7fc08c934d10>"
            ],
            "image/svg+xml": "<?xml version=\"1.0\" encoding=\"UTF-8\" standalone=\"no\"?>\n<!DOCTYPE svg PUBLIC \"-//W3C//DTD SVG 1.1//EN\"\n \"http://www.w3.org/Graphics/SVG/1.1/DTD/svg11.dtd\">\n<!-- Generated by graphviz version 2.40.1 (20161225.0304)\n -->\n<!-- Title: G Pages: 1 -->\n<svg width=\"558pt\" height=\"566pt\"\n viewBox=\"0.00 0.00 558.00 566.00\" xmlns=\"http://www.w3.org/2000/svg\" xmlns:xlink=\"http://www.w3.org/1999/xlink\">\n<g id=\"graph0\" class=\"graph\" transform=\"scale(1 1) rotate(0) translate(4 562)\">\n<title>G</title>\n<polygon fill=\"#ffffff\" stroke=\"transparent\" points=\"-4,4 -4,-562 554,-562 554,4 -4,4\"/>\n<!-- CALLQUI -->\n<g id=\"node1\" class=\"node\">\n<title>CALLQUI</title>\n<ellipse fill=\"none\" stroke=\"#000000\" cx=\"401\" cy=\"-540\" rx=\"51.9908\" ry=\"18\"/>\n<text text-anchor=\"middle\" x=\"401\" y=\"-536.3\" font-family=\"Times,serif\" font-size=\"14.00\" fill=\"#000000\">CALLQUI</text>\n</g>\n<!-- CCANIS -->\n<g id=\"node2\" class=\"node\">\n<title>CCANIS</title>\n<ellipse fill=\"none\" stroke=\"#000000\" cx=\"218\" cy=\"-453\" rx=\"45.4919\" ry=\"18\"/>\n<text text-anchor=\"middle\" x=\"218\" y=\"-449.3\" font-family=\"Times,serif\" font-size=\"14.00\" fill=\"#000000\">CCANIS</text>\n</g>\n<!-- CALLQUI&#45;&#45;CCANIS -->\n<g id=\"edge1\" class=\"edge\">\n<title>CALLQUI&#45;&#45;CCANIS</title>\n<path fill=\"none\" stroke=\"#000000\" d=\"M370.3699,-525.4382C336.0804,-509.1366 280.9184,-482.912 247.2159,-466.8895\"/>\n<text text-anchor=\"middle\" x=\"334.5\" y=\"-492.8\" font-family=\"Times,serif\" font-size=\"14.00\" fill=\"#000000\">0.96</text>\n</g>\n<!-- HUANTA -->\n<g id=\"node3\" class=\"node\">\n<title>HUANTA</title>\n<ellipse fill=\"none\" stroke=\"#000000\" cx=\"333\" cy=\"-366\" rx=\"50.0912\" ry=\"18\"/>\n<text text-anchor=\"middle\" x=\"333\" y=\"-362.3\" font-family=\"Times,serif\" font-size=\"14.00\" fill=\"#000000\">HUANTA</text>\n</g>\n<!-- CALLQUI&#45;&#45;HUANTA -->\n<g id=\"edge2\" class=\"edge\">\n<title>CALLQUI&#45;&#45;HUANTA</title>\n<path fill=\"none\" stroke=\"#000000\" d=\"M393.9789,-522.0343C380.9146,-488.605 353.0183,-417.2232 339.9829,-383.868\"/>\n<text text-anchor=\"middle\" x=\"387.5\" y=\"-449.3\" font-family=\"Times,serif\" font-size=\"14.00\" fill=\"#000000\">1.53</text>\n</g>\n<!-- PALMAYOCC -->\n<g id=\"node4\" class=\"node\">\n<title>PALMAYOCC</title>\n<ellipse fill=\"none\" stroke=\"#000000\" cx=\"186\" cy=\"-279\" rx=\"68.4888\" ry=\"18\"/>\n<text text-anchor=\"middle\" x=\"186\" y=\"-275.3\" font-family=\"Times,serif\" font-size=\"14.00\" fill=\"#000000\">PALMAYOCC</text>\n</g>\n<!-- CALLQUI&#45;&#45;PALMAYOCC -->\n<g id=\"edge3\" class=\"edge\">\n<title>CALLQUI&#45;&#45;PALMAYOCC</title>\n<path fill=\"none\" stroke=\"#000000\" d=\"M355.1252,-531.4192C294.6367,-519.3169 192.5241,-495.9138 164,-471 109.5578,-423.4486 80.7151,-376.9267 118,-315 123.7188,-305.5017 132.8773,-298.3782 142.644,-293.088\"/>\n<text text-anchor=\"middle\" x=\"129.5\" y=\"-405.8\" font-family=\"Times,serif\" font-size=\"14.00\" fill=\"#000000\">2.97</text>\n</g>\n<!-- SOCCOSCCOCHA -->\n<g id=\"node5\" class=\"node\">\n<title>SOCCOSCCOCHA</title>\n<ellipse fill=\"none\" stroke=\"#000000\" cx=\"115\" cy=\"-192\" rx=\"87.1846\" ry=\"18\"/>\n<text text-anchor=\"middle\" x=\"115\" y=\"-188.3\" font-family=\"Times,serif\" font-size=\"14.00\" fill=\"#000000\">SOCCOSCCOCHA</text>\n</g>\n<!-- CALLQUI&#45;&#45;SOCCOSCCOCHA -->\n<g id=\"edge4\" class=\"edge\">\n<title>CALLQUI&#45;&#45;SOCCOSCCOCHA</title>\n<path fill=\"none\" stroke=\"#000000\" d=\"M348.9998,-538.0139C250.3951,-532.8235 46,-514.6314 46,-453 46,-453 46,-453 46,-279 46,-250.0832 69.6893,-225.1842 89.3069,-209.5224\"/>\n<text text-anchor=\"middle\" x=\"59.5\" y=\"-362.3\" font-family=\"Times,serif\" font-size=\"14.00\" fill=\"#000000\">0.58</text>\n</g>\n<!-- UCHCUMARCA -->\n<g id=\"node6\" class=\"node\">\n<title>UCHCUMARCA</title>\n<ellipse fill=\"none\" stroke=\"#000000\" cx=\"424\" cy=\"-105\" rx=\"78.7863\" ry=\"18\"/>\n<text text-anchor=\"middle\" x=\"424\" y=\"-101.3\" font-family=\"Times,serif\" font-size=\"14.00\" fill=\"#000000\">UCHCUMARCA</text>\n</g>\n<!-- CALLQUI&#45;&#45;UCHCUMARCA -->\n<g id=\"edge5\" class=\"edge\">\n<title>CALLQUI&#45;&#45;UCHCUMARCA</title>\n<path fill=\"none\" stroke=\"#000000\" d=\"M430.3791,-524.9705C454.6023,-510.2487 485,-485.333 485,-453 485,-453 485,-453 485,-192 485,-163.9606 463.4951,-138.5471 446.0224,-122.5262\"/>\n<text text-anchor=\"middle\" x=\"498.5\" y=\"-318.8\" font-family=\"Times,serif\" font-size=\"14.00\" fill=\"#000000\">0.87</text>\n</g>\n<!-- VISTA ALEGRE -->\n<g id=\"node7\" class=\"node\">\n<title>VISTA ALEGRE</title>\n<ellipse fill=\"none\" stroke=\"#000000\" cx=\"272\" cy=\"-18\" rx=\"77.1866\" ry=\"18\"/>\n<text text-anchor=\"middle\" x=\"272\" y=\"-14.3\" font-family=\"Times,serif\" font-size=\"14.00\" fill=\"#000000\">VISTA ALEGRE</text>\n</g>\n<!-- CALLQUI&#45;&#45;VISTA ALEGRE -->\n<g id=\"edge6\" class=\"edge\">\n<title>CALLQUI&#45;&#45;VISTA ALEGRE</title>\n<path fill=\"none\" stroke=\"#000000\" d=\"M444.6498,-530.0496C482.4161,-518.5518 531,-495.5011 531,-453 531,-453 531,-453 531,-105 531,-64.503 415.7764,-39.3239 339.0358,-27.0451\"/>\n<text text-anchor=\"middle\" x=\"540.5\" y=\"-275.3\" font-family=\"Times,serif\" font-size=\"14.00\" fill=\"#000000\">1.3</text>\n</g>\n<!-- CCANIS&#45;&#45;HUANTA -->\n<g id=\"edge7\" class=\"edge\">\n<title>CCANIS&#45;&#45;HUANTA</title>\n<path fill=\"none\" stroke=\"#000000\" d=\"M239.0928,-437.0429C259.5831,-421.5415 290.5519,-398.1129 311.2596,-382.4471\"/>\n<text text-anchor=\"middle\" x=\"296.5\" y=\"-405.8\" font-family=\"Times,serif\" font-size=\"14.00\" fill=\"#000000\">1.58</text>\n</g>\n<!-- CCANIS&#45;&#45;PALMAYOCC -->\n<g id=\"edge8\" class=\"edge\">\n<title>CCANIS&#45;&#45;PALMAYOCC</title>\n<path fill=\"none\" stroke=\"#000000\" d=\"M214.696,-435.0343C208.564,-401.6918 195.4885,-330.5937 189.334,-297.1286\"/>\n<text text-anchor=\"middle\" x=\"219.5\" y=\"-362.3\" font-family=\"Times,serif\" font-size=\"14.00\" fill=\"#000000\">2.31</text>\n</g>\n<!-- CCANIS&#45;&#45;SOCCOSCCOCHA -->\n<g id=\"edge9\" class=\"edge\">\n<title>CCANIS&#45;&#45;SOCCOSCCOCHA</title>\n<path fill=\"none\" stroke=\"#000000\" d=\"M200.8933,-436.2483C175.0518,-409.6079 127.1525,-354.673 109,-297 99.7905,-267.7402 105.2524,-231.6641 110.0958,-210.3193\"/>\n<text text-anchor=\"middle\" x=\"135.5\" y=\"-318.8\" font-family=\"Times,serif\" font-size=\"14.00\" fill=\"#000000\">1.54</text>\n</g>\n<!-- CCANIS&#45;&#45;UCHCUMARCA -->\n<g id=\"edge10\" class=\"edge\">\n<title>CCANIS&#45;&#45;UCHCUMARCA</title>\n<path fill=\"none\" stroke=\"#000000\" d=\"M261.6306,-447.507C301.599,-440.1037 359.3589,-423.0006 392,-384 456.7739,-306.6063 437.7186,-171.9559 428.0509,-123.2454\"/>\n<text text-anchor=\"middle\" x=\"446.5\" y=\"-275.3\" font-family=\"Times,serif\" font-size=\"14.00\" fill=\"#000000\">0.1</text>\n</g>\n<!-- CCANIS&#45;&#45;VISTA ALEGRE -->\n<g id=\"edge11\" class=\"edge\">\n<title>CCANIS&#45;&#45;VISTA ALEGRE</title>\n<path fill=\"none\" stroke=\"#000000\" d=\"M173.9612,-448.4199C130.2997,-441.6142 64.2685,-424.8693 24,-384 3.407,-363.0998 0,-351.8409 0,-322.5 0,-322.5 0,-322.5 0,-105 0,-62.4241 122.4285,-37.8173 203.0113,-26.2323\"/>\n<text text-anchor=\"middle\" x=\"13.5\" y=\"-231.8\" font-family=\"Times,serif\" font-size=\"14.00\" fill=\"#000000\">0.41</text>\n</g>\n<!-- HUANTA&#45;&#45;PALMAYOCC -->\n<g id=\"edge12\" class=\"edge\">\n<title>HUANTA&#45;&#45;PALMAYOCC</title>\n<path fill=\"none\" stroke=\"#000000\" d=\"M297.1966,-353.1891C281.8762,-347.0717 264.081,-339.0955 249,-330 233.0938,-320.4067 216.8411,-307.1472 204.8282,-296.5528\"/>\n<text text-anchor=\"middle\" x=\"262.5\" y=\"-318.8\" font-family=\"Times,serif\" font-size=\"14.00\" fill=\"#000000\">1.96</text>\n</g>\n<!-- HUANTA&#45;&#45;SOCCOSCCOCHA -->\n<g id=\"edge13\" class=\"edge\">\n<title>HUANTA&#45;&#45;SOCCOSCCOCHA</title>\n<path fill=\"none\" stroke=\"#000000\" d=\"M324.957,-348.2266C313.8661,-325.4173 291.9214,-285.835 263,-261 233.9641,-236.0667 194.3944,-218.242 163.4755,-206.9622\"/>\n<text text-anchor=\"middle\" x=\"308.5\" y=\"-275.3\" font-family=\"Times,serif\" font-size=\"14.00\" fill=\"#000000\">1.84</text>\n</g>\n<!-- HUANTA&#45;&#45;UCHCUMARCA -->\n<g id=\"edge14\" class=\"edge\">\n<title>HUANTA&#45;&#45;UCHCUMARCA</title>\n<path fill=\"none\" stroke=\"#000000\" d=\"M347.515,-348.457C351.6618,-342.8191 355.8934,-336.3763 359,-330 394.2608,-257.6262 413.8609,-162.6094 420.9323,-123.2699\"/>\n<text text-anchor=\"middle\" x=\"410.5\" y=\"-231.8\" font-family=\"Times,serif\" font-size=\"14.00\" fill=\"#000000\">1.52</text>\n</g>\n<!-- HUANTA&#45;&#45;VISTA ALEGRE -->\n<g id=\"edge15\" class=\"edge\">\n<title>HUANTA&#45;&#45;VISTA ALEGRE</title>\n<path fill=\"none\" stroke=\"#000000\" d=\"M333.6361,-347.8134C334.4879,-313.5025 334.7257,-237.0049 323,-174 313.4594,-122.7364 291.4978,-65.0475 279.7486,-36.3152\"/>\n<text text-anchor=\"middle\" x=\"342.5\" y=\"-188.3\" font-family=\"Times,serif\" font-size=\"14.00\" fill=\"#000000\">1.95</text>\n</g>\n<!-- PALMAYOCC&#45;&#45;SOCCOSCCOCHA -->\n<g id=\"edge16\" class=\"edge\">\n<title>PALMAYOCC&#45;&#45;SOCCOSCCOCHA</title>\n<path fill=\"none\" stroke=\"#000000\" d=\"M171.6321,-261.3943C159.395,-246.3994 141.8906,-224.9505 129.5902,-209.8782\"/>\n<text text-anchor=\"middle\" x=\"168.5\" y=\"-231.8\" font-family=\"Times,serif\" font-size=\"14.00\" fill=\"#000000\">3.49</text>\n</g>\n<!-- PALMAYOCC&#45;&#45;UCHCUMARCA -->\n<g id=\"edge17\" class=\"edge\">\n<title>PALMAYOCC&#45;&#45;UCHCUMARCA</title>\n<path fill=\"none\" stroke=\"#000000\" d=\"M216.701,-262.8424C225.9829,-257.2175 235.8625,-250.4338 244,-243 272.3511,-217.1006 266.8712,-199.0216 296,-174 322.6187,-151.1346 358.0675,-132.7574 384.9098,-120.7355\"/>\n<text text-anchor=\"middle\" x=\"309.5\" y=\"-188.3\" font-family=\"Times,serif\" font-size=\"14.00\" fill=\"#000000\">2.34</text>\n</g>\n<!-- PALMAYOCC&#45;&#45;VISTA ALEGRE -->\n<g id=\"edge18\" class=\"edge\">\n<title>PALMAYOCC&#45;&#45;VISTA ALEGRE</title>\n<path fill=\"none\" stroke=\"#000000\" d=\"M193.3188,-261.0777C198.7475,-247.2875 206.0374,-227.6634 211,-210 219.4638,-179.8749 216.2746,-171.0504 225,-141 236.0913,-102.8012 253.8182,-59.7059 264.0365,-36.0173\"/>\n<text text-anchor=\"middle\" x=\"238.5\" y=\"-144.8\" font-family=\"Times,serif\" font-size=\"14.00\" fill=\"#000000\">2.37</text>\n</g>\n<!-- SOCCOSCCOCHA&#45;&#45;UCHCUMARCA -->\n<g id=\"edge19\" class=\"edge\">\n<title>SOCCOSCCOCHA&#45;&#45;UCHCUMARCA</title>\n<path fill=\"none\" stroke=\"#000000\" d=\"M180.3617,-180.0095C204.697,-174.3387 232.1754,-166.4667 256,-156 267.1733,-151.0913 267.8105,-145.8717 279,-141 304.922,-129.7141 335.0568,-121.5124 361.1176,-115.8146\"/>\n<text text-anchor=\"middle\" x=\"292.5\" y=\"-144.8\" font-family=\"Times,serif\" font-size=\"14.00\" fill=\"#000000\">1.44</text>\n</g>\n<!-- SOCCOSCCOCHA&#45;&#45;VISTA ALEGRE -->\n<g id=\"edge20\" class=\"edge\">\n<title>SOCCOSCCOCHA&#45;&#45;VISTA ALEGRE</title>\n<path fill=\"none\" stroke=\"#000000\" d=\"M124.4113,-173.8843C139.9186,-145.4204 173.2217,-89.7856 214,-54 222.1952,-46.8082 231.9908,-40.1361 241.1781,-34.539\"/>\n<text text-anchor=\"middle\" x=\"195.5\" y=\"-101.3\" font-family=\"Times,serif\" font-size=\"14.00\" fill=\"#000000\">1.86</text>\n</g>\n<!-- UCHCUMARCA&#45;&#45;VISTA ALEGRE -->\n<g id=\"edge21\" class=\"edge\">\n<title>UCHCUMARCA&#45;&#45;VISTA ALEGRE</title>\n<path fill=\"none\" stroke=\"#000000\" d=\"M394.6929,-88.2255C367.7771,-72.8198 328.1044,-50.1124 301.2172,-34.723\"/>\n<text text-anchor=\"middle\" x=\"367.5\" y=\"-57.8\" font-family=\"Times,serif\" font-size=\"14.00\" fill=\"#000000\">0.5</text>\n</g>\n</g>\n</svg>\n"
          },
          "metadata": {
            "tags": []
          },
          "execution_count": 11
        }
      ]
    },
    {
      "cell_type": "markdown",
      "metadata": {
        "id": "VjG9amwEWDDB"
      },
      "source": [
        "Implementacion del algoritmo DFS"
      ]
    },
    {
      "cell_type": "code",
      "metadata": {
        "id": "uJZsS0hqV_B4"
      },
      "source": [
        "def _dfs(G, u):\n",
        "    min = math.inf\n",
        "    sig = None\n",
        "    if not G.nodes[u]['visited']:\n",
        "        G.nodes[u]['visited'] = True\n",
        "        for v in G.neighbors(u):\n",
        "            for edge in G.edges(u):\n",
        "                if v == edge[1] and G.edges[u, v]['weight'] < min and not G.nodes[v]['visited']:\n",
        "                    min = G.edges[u, v]['weight']\n",
        "                    sig = v\n",
        "                    G.nodes[sig]['π'] = u\n",
        "                    _dfs(G, sig)\n",
        "    \n",
        "def dfs(G, s):\n",
        "    for u in G.nodes:\n",
        "        G.nodes[u]['visited'] = False\n",
        "        G.nodes[u]['π'] = -1\n",
        "    _dfs(G, s)"
      ],
      "execution_count": 12,
      "outputs": []
    },
    {
      "cell_type": "markdown",
      "metadata": {
        "id": "PHt-0z7DWMvh"
      },
      "source": [
        "Comprobando el algoritmo"
      ]
    },
    {
      "cell_type": "code",
      "metadata": {
        "colab": {
          "base_uri": "https://localhost:8080/",
          "height": 776
        },
        "id": "nviGHqInWIOU",
        "outputId": "19750277-66a7-46bc-c2ba-1164564083a2"
      },
      "source": [
        "distrito = distritos['HUANTA']\n",
        "\n",
        "\n",
        "G = nx.Graph()\n",
        "col = 'CENTRO POBLADO'\n",
        "index = distrito.index[0]\n",
        "for i, cp1 in distrito.iterrows():\n",
        "    G.add_node(i-index, label=cp1[col])\n",
        "for i, cp1 in distrito.iterrows():\n",
        "    for j, cp2 in distrito.iterrows():\n",
        "        if cp1[col] != cp2[col]: \n",
        "            G.add_edge(i-index, j-index, weight=dist(cp1, cp2))\n",
        "\n",
        "dfs(G, 0)\n",
        "\n",
        "path = [0]*G.number_of_nodes()\n",
        "\n",
        "for v, info in G.nodes.data():\n",
        "    path[v] = int(info['π'])\n",
        "\n",
        "gs.nx2gv(G, path=path, weighted=True, params={'size':'20'})"
      ],
      "execution_count": 14,
      "outputs": [
        {
          "output_type": "execute_result",
          "data": {
            "text/plain": [
              "<graphviz.dot.Graph at 0x7fc08c9b2810>"
            ],
            "image/svg+xml": "<?xml version=\"1.0\" encoding=\"UTF-8\" standalone=\"no\"?>\n<!DOCTYPE svg PUBLIC \"-//W3C//DTD SVG 1.1//EN\"\n \"http://www.w3.org/Graphics/SVG/1.1/DTD/svg11.dtd\">\n<!-- Generated by graphviz version 2.40.1 (20161225.0304)\n -->\n<!-- Title: G Pages: 1 -->\n<svg width=\"499pt\" height=\"566pt\"\n viewBox=\"0.00 0.00 499.00 566.00\" xmlns=\"http://www.w3.org/2000/svg\" xmlns:xlink=\"http://www.w3.org/1999/xlink\">\n<g id=\"graph0\" class=\"graph\" transform=\"scale(1 1) rotate(0) translate(4 562)\">\n<title>G</title>\n<polygon fill=\"#ffffff\" stroke=\"transparent\" points=\"-4,4 -4,-562 495,-562 495,4 -4,4\"/>\n<!-- 0 -->\n<g id=\"node1\" class=\"node\">\n<title>0</title>\n<ellipse fill=\"none\" stroke=\"#000000\" cx=\"330\" cy=\"-540\" rx=\"27\" ry=\"18\"/>\n<text text-anchor=\"middle\" x=\"330\" y=\"-536.3\" font-family=\"Times,serif\" font-size=\"14.00\" fill=\"#000000\">0</text>\n</g>\n<!-- 1 -->\n<g id=\"node2\" class=\"node\">\n<title>1</title>\n<ellipse fill=\"none\" stroke=\"#000000\" cx=\"226\" cy=\"-453\" rx=\"27\" ry=\"18\"/>\n<text text-anchor=\"middle\" x=\"226\" y=\"-449.3\" font-family=\"Times,serif\" font-size=\"14.00\" fill=\"#000000\">1</text>\n</g>\n<!-- 0&#45;&#45;1 -->\n<g id=\"edge1\" class=\"edge\">\n<title>0&#45;&#45;1</title>\n<path fill=\"none\" stroke=\"#ff4500\" d=\"M312.8265,-525.6337C293.4416,-509.4175 262.1063,-483.2043 242.8539,-467.099\"/>\n<text text-anchor=\"middle\" x=\"298.5\" y=\"-492.8\" font-family=\"Times,serif\" font-size=\"14.00\" fill=\"#000000\">0.96</text>\n</g>\n<!-- 2 -->\n<g id=\"node3\" class=\"node\">\n<title>2</title>\n<ellipse fill=\"none\" stroke=\"#000000\" cx=\"282\" cy=\"-366\" rx=\"27\" ry=\"18\"/>\n<text text-anchor=\"middle\" x=\"282\" y=\"-362.3\" font-family=\"Times,serif\" font-size=\"14.00\" fill=\"#000000\">2</text>\n</g>\n<!-- 0&#45;&#45;2 -->\n<g id=\"edge2\" class=\"edge\">\n<title>0&#45;&#45;2</title>\n<path fill=\"none\" stroke=\"#000000\" d=\"M325.0837,-522.06C322.4028,-512.2851 319.0236,-499.9765 316,-489 305.7034,-451.621 293.5959,-407.8682 286.965,-383.9229\"/>\n<text text-anchor=\"middle\" x=\"323.5\" y=\"-449.3\" font-family=\"Times,serif\" font-size=\"14.00\" fill=\"#000000\">1.53</text>\n</g>\n<!-- 3 -->\n<g id=\"node4\" class=\"node\">\n<title>3</title>\n<ellipse fill=\"none\" stroke=\"#000000\" cx=\"173\" cy=\"-279\" rx=\"27\" ry=\"18\"/>\n<text text-anchor=\"middle\" x=\"173\" y=\"-275.3\" font-family=\"Times,serif\" font-size=\"14.00\" fill=\"#000000\">3</text>\n</g>\n<!-- 0&#45;&#45;3 -->\n<g id=\"edge3\" class=\"edge\">\n<title>0&#45;&#45;3</title>\n<path fill=\"none\" stroke=\"#000000\" d=\"M304.9705,-532.8764C274.5999,-523.1612 223.3317,-503.1877 190,-471 142.2766,-424.9146 148.4795,-395.92 141,-330 140.2484,-323.3758 138.6308,-321.2315 141,-315 144.0906,-306.871 149.9514,-299.4054 155.8214,-293.4058\"/>\n<text text-anchor=\"middle\" x=\"166.5\" y=\"-405.8\" font-family=\"Times,serif\" font-size=\"14.00\" fill=\"#000000\">2.97</text>\n</g>\n<!-- 4 -->\n<g id=\"node5\" class=\"node\">\n<title>4</title>\n<ellipse fill=\"none\" stroke=\"#000000\" cx=\"121\" cy=\"-192\" rx=\"27\" ry=\"18\"/>\n<text text-anchor=\"middle\" x=\"121\" y=\"-188.3\" font-family=\"Times,serif\" font-size=\"14.00\" fill=\"#000000\">4</text>\n</g>\n<!-- 0&#45;&#45;4 -->\n<g id=\"edge4\" class=\"edge\">\n<title>0&#45;&#45;4</title>\n<path fill=\"none\" stroke=\"#000000\" d=\"M303.2348,-536.5559C265.4894,-530.2855 196.8944,-513.4743 158,-471 128.4612,-438.7425 122.5321,-426.4519 112,-384 96.4918,-321.4911 109.4824,-244.106 116.8155,-209.8036\"/>\n<text text-anchor=\"middle\" x=\"125.5\" y=\"-362.3\" font-family=\"Times,serif\" font-size=\"14.00\" fill=\"#000000\">0.58</text>\n</g>\n<!-- 5 -->\n<g id=\"node6\" class=\"node\">\n<title>5</title>\n<ellipse fill=\"none\" stroke=\"#000000\" cx=\"346\" cy=\"-105\" rx=\"27\" ry=\"18\"/>\n<text text-anchor=\"middle\" x=\"346\" y=\"-101.3\" font-family=\"Times,serif\" font-size=\"14.00\" fill=\"#000000\">5</text>\n</g>\n<!-- 0&#45;&#45;5 -->\n<g id=\"edge5\" class=\"edge\">\n<title>0&#45;&#45;5</title>\n<path fill=\"none\" stroke=\"#000000\" d=\"M353.7303,-530.7654C382.1587,-517.9632 426,-491.9121 426,-453 426,-453 426,-453 426,-192 426,-157.3226 391.1355,-130.515 367.4385,-116.2993\"/>\n<text text-anchor=\"middle\" x=\"439.5\" y=\"-318.8\" font-family=\"Times,serif\" font-size=\"14.00\" fill=\"#000000\">0.87</text>\n</g>\n<!-- 6 -->\n<g id=\"node7\" class=\"node\">\n<title>6</title>\n<ellipse fill=\"none\" stroke=\"#000000\" cx=\"232\" cy=\"-18\" rx=\"27\" ry=\"18\"/>\n<text text-anchor=\"middle\" x=\"232\" y=\"-14.3\" font-family=\"Times,serif\" font-size=\"14.00\" fill=\"#000000\">6</text>\n</g>\n<!-- 0&#45;&#45;6 -->\n<g id=\"edge6\" class=\"edge\">\n<title>0&#45;&#45;6</title>\n<path fill=\"none\" stroke=\"#000000\" d=\"M356.3763,-536.0421C397.4417,-528.2193 472,-506.6315 472,-453 472,-453 472,-453 472,-105 472,-60.0154 321.0881,-31.668 258.6012,-21.8585\"/>\n<text text-anchor=\"middle\" x=\"481.5\" y=\"-275.3\" font-family=\"Times,serif\" font-size=\"14.00\" fill=\"#000000\">1.3</text>\n</g>\n<!-- 1&#45;&#45;2 -->\n<g id=\"edge7\" class=\"edge\">\n<title>1&#45;&#45;2</title>\n<path fill=\"none\" stroke=\"#ff4500\" d=\"M236.7974,-436.2255C246.7137,-420.8198 261.3299,-398.1124 271.2358,-382.723\"/>\n<text text-anchor=\"middle\" x=\"271.5\" y=\"-405.8\" font-family=\"Times,serif\" font-size=\"14.00\" fill=\"#000000\">1.58</text>\n</g>\n<!-- 1&#45;&#45;3 -->\n<g id=\"edge8\" class=\"edge\">\n<title>1&#45;&#45;3</title>\n<path fill=\"none\" stroke=\"#000000\" d=\"M220.6264,-435.3584C210.4682,-402.0087 188.557,-330.074 178.3878,-296.6883\"/>\n<text text-anchor=\"middle\" x=\"218.5\" y=\"-362.3\" font-family=\"Times,serif\" font-size=\"14.00\" fill=\"#000000\">2.31</text>\n</g>\n<!-- 1&#45;&#45;4 -->\n<g id=\"edge9\" class=\"edge\">\n<title>1&#45;&#45;4</title>\n<path fill=\"none\" stroke=\"#000000\" d=\"M213.8841,-436.6967C194.2422,-409.363 155.7606,-351.8784 137,-297 126.9791,-267.687 123.22,-231.6276 121.8197,-210.3005\"/>\n<text text-anchor=\"middle\" x=\"163.5\" y=\"-318.8\" font-family=\"Times,serif\" font-size=\"14.00\" fill=\"#000000\">1.54</text>\n</g>\n<!-- 1&#45;&#45;5 -->\n<g id=\"edge10\" class=\"edge\">\n<title>1&#45;&#45;5</title>\n<path fill=\"none\" stroke=\"#000000\" d=\"M248.1307,-442.6463C260.7576,-436.1951 276.5076,-427.1951 289,-417 304.1271,-404.6547 308.384,-400.9931 318,-384 353.5384,-321.1977 365.4839,-300.1176 363,-228 361.6659,-189.2645 364.0419,-179.1134 357,-141 355.8839,-134.9591 354.1043,-128.5007 352.299,-122.7459\"/>\n<text text-anchor=\"middle\" x=\"371.5\" y=\"-275.3\" font-family=\"Times,serif\" font-size=\"14.00\" fill=\"#000000\">0.1</text>\n</g>\n<!-- 1&#45;&#45;6 -->\n<g id=\"edge11\" class=\"edge\">\n<title>1&#45;&#45;6</title>\n<path fill=\"none\" stroke=\"#000000\" d=\"M199.1873,-450.128C139.3223,-442.0803 0,-413.5683 0,-322.5 0,-322.5 0,-322.5 0,-105 0,-61.5531 144.4478,-32.503 205.3867,-22.1806\"/>\n<text text-anchor=\"middle\" x=\"13.5\" y=\"-231.8\" font-family=\"Times,serif\" font-size=\"14.00\" fill=\"#000000\">0.41</text>\n</g>\n<!-- 2&#45;&#45;3 -->\n<g id=\"edge12\" class=\"edge\">\n<title>2&#45;&#45;3</title>\n<path fill=\"none\" stroke=\"#ff4500\" d=\"M259.3242,-356.2218C245.9563,-349.8484 229.142,-340.7327 216,-330 203.8007,-320.0372 192.4274,-306.2663 184.4455,-295.5452\"/>\n<text text-anchor=\"middle\" x=\"229.5\" y=\"-318.8\" font-family=\"Times,serif\" font-size=\"14.00\" fill=\"#000000\">1.96</text>\n</g>\n<!-- 2&#45;&#45;4 -->\n<g id=\"edge13\" class=\"edge\">\n<title>2&#45;&#45;4</title>\n<path fill=\"none\" stroke=\"#000000\" d=\"M272.2141,-348.905C259.3201,-327.1697 235.1898,-289.0956 209,-261 193.0502,-243.8896 186.3974,-242.4463 168,-228 158.461,-220.5096 147.73,-212.2758 138.9325,-205.5753\"/>\n<text text-anchor=\"middle\" x=\"251.5\" y=\"-275.3\" font-family=\"Times,serif\" font-size=\"14.00\" fill=\"#000000\">1.84</text>\n</g>\n<!-- 2&#45;&#45;5 -->\n<g id=\"edge14\" class=\"edge\">\n<title>2&#45;&#45;5</title>\n<path fill=\"none\" stroke=\"#000000\" d=\"M294.1917,-349.8779C298.1849,-343.9061 302.2877,-336.9029 305,-330 333.7504,-256.8282 342.5539,-162.2478 345.0673,-123.147\"/>\n<text text-anchor=\"middle\" x=\"345.5\" y=\"-231.8\" font-family=\"Times,serif\" font-size=\"14.00\" fill=\"#000000\">1.52</text>\n</g>\n<!-- 2&#45;&#45;6 -->\n<g id=\"edge15\" class=\"edge\">\n<title>2&#45;&#45;6</title>\n<path fill=\"none\" stroke=\"#000000\" d=\"M284.9469,-348.0607C287.5717,-330.5089 291,-302.9919 291,-279 291,-279 291,-279 291,-105 291,-75.0703 266.7864,-47.7832 249.3828,-32.036\"/>\n<text text-anchor=\"middle\" x=\"304.5\" y=\"-188.3\" font-family=\"Times,serif\" font-size=\"14.00\" fill=\"#000000\">1.95</text>\n</g>\n<!-- 3&#45;&#45;4 -->\n<g id=\"edge16\" class=\"edge\">\n<title>3&#45;&#45;4</title>\n<path fill=\"none\" stroke=\"#ff4500\" d=\"M155.7752,-265.002C149.1264,-258.8474 141.9463,-251.1645 137,-243 130.8453,-232.841 126.8453,-220.091 124.384,-209.8807\"/>\n<text text-anchor=\"middle\" x=\"150.5\" y=\"-231.8\" font-family=\"Times,serif\" font-size=\"14.00\" fill=\"#000000\">3.49</text>\n</g>\n<!-- 3&#45;&#45;5 -->\n<g id=\"edge17\" class=\"edge\">\n<title>3&#45;&#45;5</title>\n<path fill=\"none\" stroke=\"#000000\" d=\"M182.9439,-262.1297C198.3901,-236.2427 227.8411,-188.2213 242,-174 266.7663,-149.1244 301.8348,-128.1008 324.249,-116.0155\"/>\n<text text-anchor=\"middle\" x=\"255.5\" y=\"-188.3\" font-family=\"Times,serif\" font-size=\"14.00\" fill=\"#000000\">2.34</text>\n</g>\n<!-- 3&#45;&#45;6 -->\n<g id=\"edge18\" class=\"edge\">\n<title>3&#45;&#45;6</title>\n<path fill=\"none\" stroke=\"#000000\" d=\"M169.9739,-260.8366C166.1458,-234.1578 161.1592,-182.9919 171,-141 180.5719,-100.1553 205.8145,-57.3353 220.6563,-34.5616\"/>\n<text text-anchor=\"middle\" x=\"184.5\" y=\"-144.8\" font-family=\"Times,serif\" font-size=\"14.00\" fill=\"#000000\">2.37</text>\n</g>\n<!-- 4&#45;&#45;5 -->\n<g id=\"edge19\" class=\"edge\">\n<title>4&#45;&#45;5</title>\n<path fill=\"none\" stroke=\"#ff4500\" d=\"M144.5166,-182.718C160.9431,-175.9539 183.2083,-166.2188 202,-156 212.7214,-150.1698 213.925,-146.1268 225,-141 256.4251,-126.4529 295.1512,-116.1492 320.1957,-110.3923\"/>\n<text text-anchor=\"middle\" x=\"238.5\" y=\"-144.8\" font-family=\"Times,serif\" font-size=\"14.00\" fill=\"#000000\">1.44</text>\n</g>\n<!-- 4&#45;&#45;6 -->\n<g id=\"edge20\" class=\"edge\">\n<title>4&#45;&#45;6</title>\n<path fill=\"none\" stroke=\"#000000\" d=\"M120.0344,-173.7585C119.5677,-152.1736 120.9318,-115.563 133,-87 146.2906,-55.5437 182.7922,-36.1717 207.5588,-26.2481\"/>\n<text text-anchor=\"middle\" x=\"146.5\" y=\"-101.3\" font-family=\"Times,serif\" font-size=\"14.00\" fill=\"#000000\">1.86</text>\n</g>\n<!-- 5&#45;&#45;6 -->\n<g id=\"edge21\" class=\"edge\">\n<title>5&#45;&#45;6</title>\n<path fill=\"none\" stroke=\"#ff4500\" d=\"M335.3648,-88.2591C327.8714,-77.4553 317.0534,-63.6659 305,-54 290.2278,-42.1538 270.9192,-32.8456 255.8706,-26.6641\"/>\n<text text-anchor=\"middle\" x=\"329.5\" y=\"-57.8\" font-family=\"Times,serif\" font-size=\"14.00\" fill=\"#000000\">0.5</text>\n</g>\n</g>\n</svg>\n"
          },
          "metadata": {
            "tags": []
          },
          "execution_count": 14
        }
      ]
    }
  ]
}